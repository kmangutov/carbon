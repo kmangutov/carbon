{
 "cells": [
  {
   "cell_type": "code",
   "execution_count": 1,
   "metadata": {},
   "outputs": [],
   "source": [
    "from DBAccess import sample_df\n",
    "import backtrader as bt\n",
    "import backtrader.feeds as btfeed"
   ]
  },
  {
   "cell_type": "code",
   "execution_count": 2,
   "metadata": {},
   "outputs": [],
   "source": [
    "#print(str(sample()))"
   ]
  },
  {
   "cell_type": "code",
   "execution_count": 3,
   "metadata": {},
   "outputs": [
    {
     "name": "stdout",
     "output_type": "stream",
     "text": [
      "                      open         high          low        close    volume\n",
      "datetime                                                                   \n",
      "1587413772848  6825.550000  6825.550000  6825.550000  6825.550000  0.008560\n",
      "1587413772652  6820.900000  6820.900000  6820.900000  6820.900000  0.024000\n",
      "1587413772554  6820.810000  6820.810000  6820.810000  6820.810000  0.060042\n",
      "1587413772224  6820.500000  6820.500000  6820.500000  6820.500000  0.024000\n",
      "1587413772124     0.024843     0.024843     0.024843     0.024843  0.048000\n",
      "...                    ...          ...          ...          ...       ...\n",
      "1586479509383  7283.280000  7283.280000  7283.280000  7283.280000  0.060178\n",
      "1586479509189  7283.360000  7283.360000  7283.360000  7283.360000  0.002746\n",
      "1586479509103  7282.750000  7282.750000  7282.750000  7282.750000  0.004159\n",
      "1586479509103  7283.380000  7283.380000  7283.380000  7283.380000  0.005490\n",
      "1586479509103  7283.840000  7283.840000  7283.840000  7283.840000  0.006117\n",
      "\n",
      "[200 rows x 5 columns]\n"
     ]
    }
   ],
   "source": [
    "print(str(sample_df()))"
   ]
  },
  {
   "cell_type": "code",
   "execution_count": null,
   "metadata": {},
   "outputs": [],
   "source": [
    "class SmaCross(bt.SignalStrategy):\n",
    "    params = (('pfast', 2), ('pslow', 10),)\n",
    "    def __init__(self):\n",
    "        sma1, sma2 = bt.ind.SMA(period=self.p.pfast), bt.ind.SMA(period=self.p.pslow)\n",
    "        self.signal_add(bt.SIGNAL_LONG, bt.ind.CrossOver(sma1, sma2))"
   ]
  },
  {
   "cell_type": "code",
   "execution_count": null,
   "metadata": {},
   "outputs": [],
   "source": [
    "cerebro = bt.Cerebro()\n",
    "cerebro.adddata(sample_df())"
   ]
  }
 ],
 "metadata": {
  "kernelspec": {
   "display_name": "Python 3",
   "language": "python",
   "name": "python3"
  },
  "language_info": {
   "codemirror_mode": {
    "name": "ipython",
    "version": 3
   },
   "file_extension": ".py",
   "mimetype": "text/x-python",
   "name": "python",
   "nbconvert_exporter": "python",
   "pygments_lexer": "ipython3",
   "version": "3.8.2"
  }
 },
 "nbformat": 4,
 "nbformat_minor": 4
}
